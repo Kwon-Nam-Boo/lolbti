{
 "cells": [
  {
   "cell_type": "code",
   "execution_count": 1,
   "metadata": {},
   "outputs": [],
   "source": [
    "import requests\n",
    "import numpy as np\n",
    "import pandas as pd\n",
    "\n",
    "from sklearn import preprocessing\n",
    "\n",
    "import time\n",
    "\n",
    "from tqdm import tqdm\n",
    "from tqdm import trange\n",
    "\n",
    "import copy\n",
    "\n",
    "from multiprocessing import Pool # Pool import하기"
   ]
  },
  {
   "cell_type": "code",
   "execution_count": 2,
   "metadata": {},
   "outputs": [],
   "source": [
    "import os\n",
    "\n",
    "DATA_DIR = \"\"\n",
    "DUMP_FILE = os.path.join(DATA_DIR, \"정규화후.pkl\")\n",
    "\n",
    "def dump_dataframes(dataframes):\n",
    "    pd.to_pickle(dataframes, DUMP_FILE)\n",
    "\n",
    "def load_dataframes():\n",
    "    return pd.read_pickle(DUMP_FILE)\n",
    "# dump_dataframes(match_fin)"
   ]
  },
  {
   "cell_type": "code",
   "execution_count": 3,
   "metadata": {},
   "outputs": [],
   "source": [
    "user_mastery = load_dataframes()"
   ]
  },
  {
   "cell_type": "code",
   "execution_count": 109,
   "metadata": {
    "scrolled": true
   },
   "outputs": [
    {
     "data": {
      "text/html": [
       "<div>\n",
       "<style scoped>\n",
       "    .dataframe tbody tr th:only-of-type {\n",
       "        vertical-align: middle;\n",
       "    }\n",
       "\n",
       "    .dataframe tbody tr th {\n",
       "        vertical-align: top;\n",
       "    }\n",
       "\n",
       "    .dataframe thead th {\n",
       "        text-align: right;\n",
       "    }\n",
       "</style>\n",
       "<table border=\"1\" class=\"dataframe\">\n",
       "  <thead>\n",
       "    <tr style=\"text-align: right;\">\n",
       "      <th></th>\n",
       "      <th>266</th>\n",
       "      <th>103</th>\n",
       "      <th>84</th>\n",
       "      <th>12</th>\n",
       "      <th>32</th>\n",
       "      <th>34</th>\n",
       "      <th>1</th>\n",
       "      <th>523</th>\n",
       "      <th>22</th>\n",
       "      <th>136</th>\n",
       "      <th>...</th>\n",
       "      <th>157</th>\n",
       "      <th>777</th>\n",
       "      <th>83</th>\n",
       "      <th>350</th>\n",
       "      <th>154</th>\n",
       "      <th>238</th>\n",
       "      <th>115</th>\n",
       "      <th>26</th>\n",
       "      <th>142</th>\n",
       "      <th>143</th>\n",
       "    </tr>\n",
       "  </thead>\n",
       "  <tbody>\n",
       "    <tr>\n",
       "      <th>vvi2</th>\n",
       "      <td>0.095098</td>\n",
       "      <td>0.003870</td>\n",
       "      <td>0.010181</td>\n",
       "      <td>0.038616</td>\n",
       "      <td>0.008656</td>\n",
       "      <td>0.000000</td>\n",
       "      <td>0.000000</td>\n",
       "      <td>0.003089</td>\n",
       "      <td>0.040411</td>\n",
       "      <td>0.0</td>\n",
       "      <td>...</td>\n",
       "      <td>0.042128</td>\n",
       "      <td>0.000000</td>\n",
       "      <td>0.000000</td>\n",
       "      <td>0.000000</td>\n",
       "      <td>0.116988</td>\n",
       "      <td>0.015208</td>\n",
       "      <td>0.000000</td>\n",
       "      <td>0.000000</td>\n",
       "      <td>0.011005</td>\n",
       "      <td>0.000000</td>\n",
       "    </tr>\n",
       "    <tr>\n",
       "      <th>liu de hua</th>\n",
       "      <td>0.005644</td>\n",
       "      <td>0.002093</td>\n",
       "      <td>0.008588</td>\n",
       "      <td>0.000000</td>\n",
       "      <td>0.000000</td>\n",
       "      <td>0.000000</td>\n",
       "      <td>0.000000</td>\n",
       "      <td>0.000602</td>\n",
       "      <td>0.001505</td>\n",
       "      <td>0.0</td>\n",
       "      <td>...</td>\n",
       "      <td>0.006883</td>\n",
       "      <td>0.000000</td>\n",
       "      <td>0.000000</td>\n",
       "      <td>0.000000</td>\n",
       "      <td>0.000000</td>\n",
       "      <td>0.000000</td>\n",
       "      <td>0.000000</td>\n",
       "      <td>0.000000</td>\n",
       "      <td>0.001250</td>\n",
       "      <td>0.000000</td>\n",
       "    </tr>\n",
       "    <tr>\n",
       "      <th>DWG Canyon</th>\n",
       "      <td>0.600000</td>\n",
       "      <td>0.005527</td>\n",
       "      <td>0.032101</td>\n",
       "      <td>0.005838</td>\n",
       "      <td>0.000000</td>\n",
       "      <td>0.000000</td>\n",
       "      <td>0.000000</td>\n",
       "      <td>0.008133</td>\n",
       "      <td>0.002785</td>\n",
       "      <td>0.0</td>\n",
       "      <td>...</td>\n",
       "      <td>0.000537</td>\n",
       "      <td>0.000000</td>\n",
       "      <td>0.003380</td>\n",
       "      <td>0.000000</td>\n",
       "      <td>0.036771</td>\n",
       "      <td>0.000000</td>\n",
       "      <td>0.000000</td>\n",
       "      <td>0.037176</td>\n",
       "      <td>0.059218</td>\n",
       "      <td>0.000642</td>\n",
       "    </tr>\n",
       "    <tr>\n",
       "      <th>can see you</th>\n",
       "      <td>0.002120</td>\n",
       "      <td>0.000000</td>\n",
       "      <td>0.000000</td>\n",
       "      <td>0.000000</td>\n",
       "      <td>0.000000</td>\n",
       "      <td>0.000000</td>\n",
       "      <td>0.000182</td>\n",
       "      <td>0.000000</td>\n",
       "      <td>0.001260</td>\n",
       "      <td>0.0</td>\n",
       "      <td>...</td>\n",
       "      <td>0.000304</td>\n",
       "      <td>0.001033</td>\n",
       "      <td>0.000000</td>\n",
       "      <td>0.002516</td>\n",
       "      <td>0.001648</td>\n",
       "      <td>0.000000</td>\n",
       "      <td>0.000971</td>\n",
       "      <td>0.000000</td>\n",
       "      <td>0.000000</td>\n",
       "      <td>0.000000</td>\n",
       "    </tr>\n",
       "    <tr>\n",
       "      <th>T1 Burdol</th>\n",
       "      <td>0.331610</td>\n",
       "      <td>0.000000</td>\n",
       "      <td>0.314465</td>\n",
       "      <td>0.011344</td>\n",
       "      <td>0.000000</td>\n",
       "      <td>0.000000</td>\n",
       "      <td>0.000000</td>\n",
       "      <td>0.001831</td>\n",
       "      <td>0.000000</td>\n",
       "      <td>0.0</td>\n",
       "      <td>...</td>\n",
       "      <td>0.028427</td>\n",
       "      <td>0.000000</td>\n",
       "      <td>0.033434</td>\n",
       "      <td>0.055608</td>\n",
       "      <td>0.000000</td>\n",
       "      <td>0.002112</td>\n",
       "      <td>0.000000</td>\n",
       "      <td>0.000000</td>\n",
       "      <td>0.000456</td>\n",
       "      <td>0.000000</td>\n",
       "    </tr>\n",
       "    <tr>\n",
       "      <th>...</th>\n",
       "      <td>...</td>\n",
       "      <td>...</td>\n",
       "      <td>...</td>\n",
       "      <td>...</td>\n",
       "      <td>...</td>\n",
       "      <td>...</td>\n",
       "      <td>...</td>\n",
       "      <td>...</td>\n",
       "      <td>...</td>\n",
       "      <td>...</td>\n",
       "      <td>...</td>\n",
       "      <td>...</td>\n",
       "      <td>...</td>\n",
       "      <td>...</td>\n",
       "      <td>...</td>\n",
       "      <td>...</td>\n",
       "      <td>...</td>\n",
       "      <td>...</td>\n",
       "      <td>...</td>\n",
       "      <td>...</td>\n",
       "      <td>...</td>\n",
       "    </tr>\n",
       "    <tr>\n",
       "      <th>사 용 수</th>\n",
       "      <td>0.270882</td>\n",
       "      <td>0.000000</td>\n",
       "      <td>0.026930</td>\n",
       "      <td>0.000000</td>\n",
       "      <td>0.000000</td>\n",
       "      <td>0.000000</td>\n",
       "      <td>0.000000</td>\n",
       "      <td>0.000000</td>\n",
       "      <td>0.006594</td>\n",
       "      <td>0.0</td>\n",
       "      <td>...</td>\n",
       "      <td>0.000000</td>\n",
       "      <td>0.000000</td>\n",
       "      <td>0.000000</td>\n",
       "      <td>0.000000</td>\n",
       "      <td>0.000000</td>\n",
       "      <td>0.000000</td>\n",
       "      <td>0.000000</td>\n",
       "      <td>0.000000</td>\n",
       "      <td>0.000000</td>\n",
       "      <td>0.000000</td>\n",
       "    </tr>\n",
       "    <tr>\n",
       "      <th>카게게</th>\n",
       "      <td>0.273359</td>\n",
       "      <td>0.000000</td>\n",
       "      <td>0.332258</td>\n",
       "      <td>0.016999</td>\n",
       "      <td>0.000000</td>\n",
       "      <td>0.000000</td>\n",
       "      <td>0.000000</td>\n",
       "      <td>0.063358</td>\n",
       "      <td>0.017517</td>\n",
       "      <td>0.0</td>\n",
       "      <td>...</td>\n",
       "      <td>0.174470</td>\n",
       "      <td>0.040547</td>\n",
       "      <td>0.000000</td>\n",
       "      <td>0.027708</td>\n",
       "      <td>0.000000</td>\n",
       "      <td>0.241729</td>\n",
       "      <td>0.035372</td>\n",
       "      <td>0.002070</td>\n",
       "      <td>0.266571</td>\n",
       "      <td>0.000000</td>\n",
       "    </tr>\n",
       "    <tr>\n",
       "      <th>IAKIL</th>\n",
       "      <td>0.009418</td>\n",
       "      <td>0.000598</td>\n",
       "      <td>0.150717</td>\n",
       "      <td>0.000000</td>\n",
       "      <td>0.000000</td>\n",
       "      <td>0.000739</td>\n",
       "      <td>0.009779</td>\n",
       "      <td>0.614114</td>\n",
       "      <td>0.272830</td>\n",
       "      <td>0.0</td>\n",
       "      <td>...</td>\n",
       "      <td>0.310345</td>\n",
       "      <td>0.037492</td>\n",
       "      <td>0.000000</td>\n",
       "      <td>0.064308</td>\n",
       "      <td>0.005267</td>\n",
       "      <td>0.025181</td>\n",
       "      <td>0.025282</td>\n",
       "      <td>0.005606</td>\n",
       "      <td>0.207947</td>\n",
       "      <td>0.006305</td>\n",
       "    </tr>\n",
       "    <tr>\n",
       "      <th>jooI</th>\n",
       "      <td>0.095098</td>\n",
       "      <td>0.003870</td>\n",
       "      <td>0.010181</td>\n",
       "      <td>0.038616</td>\n",
       "      <td>0.008656</td>\n",
       "      <td>0.000000</td>\n",
       "      <td>0.000000</td>\n",
       "      <td>0.003089</td>\n",
       "      <td>0.040411</td>\n",
       "      <td>0.0</td>\n",
       "      <td>...</td>\n",
       "      <td>0.042128</td>\n",
       "      <td>0.000000</td>\n",
       "      <td>0.000000</td>\n",
       "      <td>0.000000</td>\n",
       "      <td>0.116988</td>\n",
       "      <td>0.015208</td>\n",
       "      <td>0.000000</td>\n",
       "      <td>0.000000</td>\n",
       "      <td>0.011005</td>\n",
       "      <td>0.000000</td>\n",
       "    </tr>\n",
       "    <tr>\n",
       "      <th>Bmav</th>\n",
       "      <td>0.005644</td>\n",
       "      <td>0.002093</td>\n",
       "      <td>0.008588</td>\n",
       "      <td>0.000000</td>\n",
       "      <td>0.000000</td>\n",
       "      <td>0.000000</td>\n",
       "      <td>0.000000</td>\n",
       "      <td>0.000602</td>\n",
       "      <td>0.001505</td>\n",
       "      <td>0.0</td>\n",
       "      <td>...</td>\n",
       "      <td>0.006883</td>\n",
       "      <td>0.000000</td>\n",
       "      <td>0.000000</td>\n",
       "      <td>0.000000</td>\n",
       "      <td>0.000000</td>\n",
       "      <td>0.000000</td>\n",
       "      <td>0.000000</td>\n",
       "      <td>0.000000</td>\n",
       "      <td>0.001250</td>\n",
       "      <td>0.000000</td>\n",
       "    </tr>\n",
       "  </tbody>\n",
       "</table>\n",
       "<p>300 rows × 150 columns</p>\n",
       "</div>"
      ],
      "text/plain": [
       "                  266       103        84        12        32        34  \\\n",
       "vvi2         0.095098  0.003870  0.010181  0.038616  0.008656  0.000000   \n",
       "liu de hua   0.005644  0.002093  0.008588  0.000000  0.000000  0.000000   \n",
       "DWG Canyon   0.600000  0.005527  0.032101  0.005838  0.000000  0.000000   \n",
       "can see you  0.002120  0.000000  0.000000  0.000000  0.000000  0.000000   \n",
       "T1 Burdol    0.331610  0.000000  0.314465  0.011344  0.000000  0.000000   \n",
       "...               ...       ...       ...       ...       ...       ...   \n",
       "사 용 수        0.270882  0.000000  0.026930  0.000000  0.000000  0.000000   \n",
       "카게게          0.273359  0.000000  0.332258  0.016999  0.000000  0.000000   \n",
       "IAKIL        0.009418  0.000598  0.150717  0.000000  0.000000  0.000739   \n",
       "jooI         0.095098  0.003870  0.010181  0.038616  0.008656  0.000000   \n",
       "Bmav         0.005644  0.002093  0.008588  0.000000  0.000000  0.000000   \n",
       "\n",
       "                    1       523        22  136  ...       157       777  \\\n",
       "vvi2         0.000000  0.003089  0.040411  0.0  ...  0.042128  0.000000   \n",
       "liu de hua   0.000000  0.000602  0.001505  0.0  ...  0.006883  0.000000   \n",
       "DWG Canyon   0.000000  0.008133  0.002785  0.0  ...  0.000537  0.000000   \n",
       "can see you  0.000182  0.000000  0.001260  0.0  ...  0.000304  0.001033   \n",
       "T1 Burdol    0.000000  0.001831  0.000000  0.0  ...  0.028427  0.000000   \n",
       "...               ...       ...       ...  ...  ...       ...       ...   \n",
       "사 용 수        0.000000  0.000000  0.006594  0.0  ...  0.000000  0.000000   \n",
       "카게게          0.000000  0.063358  0.017517  0.0  ...  0.174470  0.040547   \n",
       "IAKIL        0.009779  0.614114  0.272830  0.0  ...  0.310345  0.037492   \n",
       "jooI         0.000000  0.003089  0.040411  0.0  ...  0.042128  0.000000   \n",
       "Bmav         0.000000  0.000602  0.001505  0.0  ...  0.006883  0.000000   \n",
       "\n",
       "                   83       350       154       238       115        26  \\\n",
       "vvi2         0.000000  0.000000  0.116988  0.015208  0.000000  0.000000   \n",
       "liu de hua   0.000000  0.000000  0.000000  0.000000  0.000000  0.000000   \n",
       "DWG Canyon   0.003380  0.000000  0.036771  0.000000  0.000000  0.037176   \n",
       "can see you  0.000000  0.002516  0.001648  0.000000  0.000971  0.000000   \n",
       "T1 Burdol    0.033434  0.055608  0.000000  0.002112  0.000000  0.000000   \n",
       "...               ...       ...       ...       ...       ...       ...   \n",
       "사 용 수        0.000000  0.000000  0.000000  0.000000  0.000000  0.000000   \n",
       "카게게          0.000000  0.027708  0.000000  0.241729  0.035372  0.002070   \n",
       "IAKIL        0.000000  0.064308  0.005267  0.025181  0.025282  0.005606   \n",
       "jooI         0.000000  0.000000  0.116988  0.015208  0.000000  0.000000   \n",
       "Bmav         0.000000  0.000000  0.000000  0.000000  0.000000  0.000000   \n",
       "\n",
       "                  142       143  \n",
       "vvi2         0.011005  0.000000  \n",
       "liu de hua   0.001250  0.000000  \n",
       "DWG Canyon   0.059218  0.000642  \n",
       "can see you  0.000000  0.000000  \n",
       "T1 Burdol    0.000456  0.000000  \n",
       "...               ...       ...  \n",
       "사 용 수        0.000000  0.000000  \n",
       "카게게          0.266571  0.000000  \n",
       "IAKIL        0.207947  0.006305  \n",
       "jooI         0.011005  0.000000  \n",
       "Bmav         0.001250  0.000000  \n",
       "\n",
       "[300 rows x 150 columns]"
      ]
     },
     "execution_count": 109,
     "metadata": {},
     "output_type": "execute_result"
    }
   ],
   "source": [
    "user_mastery"
   ]
  },
  {
   "cell_type": "code",
   "execution_count": 66,
   "metadata": {
    "scrolled": true
   },
   "outputs": [
    {
     "data": {
      "text/plain": [
       "Index(['vvi2', 'liu de hua', 'DWG Canyon', 'can see you', 'T1 Burdol',\n",
       "       '버기해적단 버기', 'ehfdkdhsakql', 'XiaoHuaSheng7', 'SANDBOX Howling',\n",
       "       'Tar2an',\n",
       "       ...\n",
       "       'DRX 홍창현', 'KronGG', 'dongshiyuan1hao', 'Axiyo', '준탱이528', '사 용 수',\n",
       "       '카게게', 'IAKIL', 'jooI', 'Bmav'],\n",
       "      dtype='object', length=300)"
      ]
     },
     "execution_count": 66,
     "metadata": {},
     "output_type": "execute_result"
    }
   ],
   "source": [
    "user_mastery.index"
   ]
  },
  {
   "cell_type": "markdown",
   "metadata": {},
   "source": [
    "## 유저-유저 유사도 행렬 구하기\n",
    "\n",
    "[딥 러닝을 이용한 자연어 처리 입문](https://wikidocs.net/24603)\n",
    "\n",
    "cosine similarity 사용\n",
    "\n",
    "### 데이터 추가했을 때 u*u 만큼 하지말고 +1 padding하는 느낌으로 연산해야 될 듯?"
   ]
  },
  {
   "cell_type": "code",
   "execution_count": 27,
   "metadata": {},
   "outputs": [],
   "source": [
    "from numpy import dot\n",
    "from numpy.linalg import norm\n",
    "\n",
    "def cosine_sim(A,B):\n",
    "    return dot(A, B)/(norm(A)*norm(B))"
   ]
  },
  {
   "cell_type": "code",
   "execution_count": 29,
   "metadata": {},
   "outputs": [
    {
     "data": {
      "text/plain": [
       "266    0.095098\n",
       "103    0.003870\n",
       "84     0.010181\n",
       "12     0.038616\n",
       "32     0.008656\n",
       "         ...   \n",
       "238    0.015208\n",
       "115    0.000000\n",
       "26     0.000000\n",
       "142    0.011005\n",
       "143    0.000000\n",
       "Name: vvi2, Length: 150, dtype: float64"
      ]
     },
     "execution_count": 29,
     "metadata": {},
     "output_type": "execute_result"
    }
   ],
   "source": [
    "user_mastery.loc['vvi2',:]"
   ]
  },
  {
   "cell_type": "code",
   "execution_count": 28,
   "metadata": {},
   "outputs": [
    {
     "data": {
      "text/plain": [
       "1.0000000000000002"
      ]
     },
     "execution_count": 28,
     "metadata": {},
     "output_type": "execute_result"
    }
   ],
   "source": [
    "cosine_sim(user_mastery.loc['vvi2',:].values,user_mastery.loc['vvi2',:].values)"
   ]
  },
  {
   "cell_type": "code",
   "execution_count": 36,
   "metadata": {},
   "outputs": [],
   "source": [
    "l = len(user_mastery.index)"
   ]
  },
  {
   "cell_type": "code",
   "execution_count": 68,
   "metadata": {},
   "outputs": [],
   "source": [
    "user_user_sim =np.mat(np.zeros((l, l)))"
   ]
  },
  {
   "cell_type": "code",
   "execution_count": 69,
   "metadata": {},
   "outputs": [],
   "source": [
    "for i in range(l):\n",
    "    for j in range(l):\n",
    "        user_user_sim[i,j] = cosine_sim(user_mastery.iloc[i,:],user_mastery.iloc[j,:])"
   ]
  },
  {
   "cell_type": "code",
   "execution_count": 70,
   "metadata": {
    "scrolled": true
   },
   "outputs": [
    {
     "data": {
      "text/plain": [
       "matrix([[1.        , 0.02245791, 0.64739604, ..., 0.17705798, 1.        ,\n",
       "         0.02245791],\n",
       "        [0.02245791, 1.        , 0.02477776, ..., 0.015395  , 0.02245791,\n",
       "         1.        ],\n",
       "        [0.64739604, 0.02477776, 1.        , ..., 0.14406472, 0.64739604,\n",
       "         0.02477776],\n",
       "        ...,\n",
       "        [0.17705798, 0.015395  , 0.14406472, ..., 1.        , 0.17705798,\n",
       "         0.015395  ],\n",
       "        [1.        , 0.02245791, 0.64739604, ..., 0.17705798, 1.        ,\n",
       "         0.02245791],\n",
       "        [0.02245791, 1.        , 0.02477776, ..., 0.015395  , 0.02245791,\n",
       "         1.        ]])"
      ]
     },
     "execution_count": 70,
     "metadata": {},
     "output_type": "execute_result"
    }
   ],
   "source": [
    "user_user_sim"
   ]
  },
  {
   "cell_type": "code",
   "execution_count": 72,
   "metadata": {
    "scrolled": true
   },
   "outputs": [],
   "source": [
    "df_user_user_sim = pd.DataFrame(data=user_user_sim,index=user_mastery.index, columns = user_mastery.index)"
   ]
  },
  {
   "cell_type": "code",
   "execution_count": 73,
   "metadata": {
    "scrolled": false
   },
   "outputs": [
    {
     "data": {
      "text/html": [
       "<div>\n",
       "<style scoped>\n",
       "    .dataframe tbody tr th:only-of-type {\n",
       "        vertical-align: middle;\n",
       "    }\n",
       "\n",
       "    .dataframe tbody tr th {\n",
       "        vertical-align: top;\n",
       "    }\n",
       "\n",
       "    .dataframe thead th {\n",
       "        text-align: right;\n",
       "    }\n",
       "</style>\n",
       "<table border=\"1\" class=\"dataframe\">\n",
       "  <thead>\n",
       "    <tr style=\"text-align: right;\">\n",
       "      <th></th>\n",
       "      <th>vvi2</th>\n",
       "      <th>liu de hua</th>\n",
       "      <th>DWG Canyon</th>\n",
       "      <th>can see you</th>\n",
       "      <th>T1 Burdol</th>\n",
       "      <th>버기해적단 버기</th>\n",
       "      <th>ehfdkdhsakql</th>\n",
       "      <th>XiaoHuaSheng7</th>\n",
       "      <th>SANDBOX Howling</th>\n",
       "      <th>Tar2an</th>\n",
       "      <th>...</th>\n",
       "      <th>DRX 홍창현</th>\n",
       "      <th>KronGG</th>\n",
       "      <th>dongshiyuan1hao</th>\n",
       "      <th>Axiyo</th>\n",
       "      <th>준탱이528</th>\n",
       "      <th>사 용 수</th>\n",
       "      <th>카게게</th>\n",
       "      <th>IAKIL</th>\n",
       "      <th>jooI</th>\n",
       "      <th>Bmav</th>\n",
       "    </tr>\n",
       "  </thead>\n",
       "  <tbody>\n",
       "    <tr>\n",
       "      <th>vvi2</th>\n",
       "      <td>1.000000</td>\n",
       "      <td>0.022458</td>\n",
       "      <td>0.647396</td>\n",
       "      <td>0.071693</td>\n",
       "      <td>0.190528</td>\n",
       "      <td>0.710296</td>\n",
       "      <td>0.038351</td>\n",
       "      <td>0.820694</td>\n",
       "      <td>0.172132</td>\n",
       "      <td>0.695309</td>\n",
       "      <td>...</td>\n",
       "      <td>0.025006</td>\n",
       "      <td>0.156684</td>\n",
       "      <td>0.527983</td>\n",
       "      <td>0.219524</td>\n",
       "      <td>0.040231</td>\n",
       "      <td>0.161267</td>\n",
       "      <td>0.102552</td>\n",
       "      <td>0.177058</td>\n",
       "      <td>1.000000</td>\n",
       "      <td>0.022458</td>\n",
       "    </tr>\n",
       "    <tr>\n",
       "      <th>liu de hua</th>\n",
       "      <td>0.022458</td>\n",
       "      <td>1.000000</td>\n",
       "      <td>0.024778</td>\n",
       "      <td>0.005214</td>\n",
       "      <td>0.024289</td>\n",
       "      <td>0.020561</td>\n",
       "      <td>0.002521</td>\n",
       "      <td>0.028021</td>\n",
       "      <td>0.011281</td>\n",
       "      <td>0.065917</td>\n",
       "      <td>...</td>\n",
       "      <td>0.001808</td>\n",
       "      <td>0.013143</td>\n",
       "      <td>0.026469</td>\n",
       "      <td>0.018780</td>\n",
       "      <td>0.001947</td>\n",
       "      <td>0.003725</td>\n",
       "      <td>0.005459</td>\n",
       "      <td>0.015395</td>\n",
       "      <td>0.022458</td>\n",
       "      <td>1.000000</td>\n",
       "    </tr>\n",
       "    <tr>\n",
       "      <th>DWG Canyon</th>\n",
       "      <td>0.647396</td>\n",
       "      <td>0.024778</td>\n",
       "      <td>1.000000</td>\n",
       "      <td>0.114861</td>\n",
       "      <td>0.245174</td>\n",
       "      <td>0.664164</td>\n",
       "      <td>0.028527</td>\n",
       "      <td>0.724303</td>\n",
       "      <td>0.287801</td>\n",
       "      <td>0.716107</td>\n",
       "      <td>...</td>\n",
       "      <td>0.024369</td>\n",
       "      <td>0.084257</td>\n",
       "      <td>0.476112</td>\n",
       "      <td>0.224488</td>\n",
       "      <td>0.085616</td>\n",
       "      <td>0.274591</td>\n",
       "      <td>0.199578</td>\n",
       "      <td>0.144065</td>\n",
       "      <td>0.647396</td>\n",
       "      <td>0.024778</td>\n",
       "    </tr>\n",
       "    <tr>\n",
       "      <th>can see you</th>\n",
       "      <td>0.071693</td>\n",
       "      <td>0.005214</td>\n",
       "      <td>0.114861</td>\n",
       "      <td>1.000000</td>\n",
       "      <td>0.006649</td>\n",
       "      <td>0.089025</td>\n",
       "      <td>0.003663</td>\n",
       "      <td>0.111962</td>\n",
       "      <td>0.010734</td>\n",
       "      <td>0.069789</td>\n",
       "      <td>...</td>\n",
       "      <td>0.004084</td>\n",
       "      <td>0.014516</td>\n",
       "      <td>0.059639</td>\n",
       "      <td>0.148188</td>\n",
       "      <td>0.043470</td>\n",
       "      <td>0.016936</td>\n",
       "      <td>0.010560</td>\n",
       "      <td>0.009552</td>\n",
       "      <td>0.071693</td>\n",
       "      <td>0.005214</td>\n",
       "    </tr>\n",
       "    <tr>\n",
       "      <th>T1 Burdol</th>\n",
       "      <td>0.190528</td>\n",
       "      <td>0.024289</td>\n",
       "      <td>0.245174</td>\n",
       "      <td>0.006649</td>\n",
       "      <td>1.000000</td>\n",
       "      <td>0.069873</td>\n",
       "      <td>0.043682</td>\n",
       "      <td>0.081800</td>\n",
       "      <td>0.581745</td>\n",
       "      <td>0.105595</td>\n",
       "      <td>...</td>\n",
       "      <td>0.075412</td>\n",
       "      <td>0.118188</td>\n",
       "      <td>0.061293</td>\n",
       "      <td>0.366384</td>\n",
       "      <td>0.149108</td>\n",
       "      <td>0.497137</td>\n",
       "      <td>0.445523</td>\n",
       "      <td>0.123392</td>\n",
       "      <td>0.190528</td>\n",
       "      <td>0.024289</td>\n",
       "    </tr>\n",
       "    <tr>\n",
       "      <th>...</th>\n",
       "      <td>...</td>\n",
       "      <td>...</td>\n",
       "      <td>...</td>\n",
       "      <td>...</td>\n",
       "      <td>...</td>\n",
       "      <td>...</td>\n",
       "      <td>...</td>\n",
       "      <td>...</td>\n",
       "      <td>...</td>\n",
       "      <td>...</td>\n",
       "      <td>...</td>\n",
       "      <td>...</td>\n",
       "      <td>...</td>\n",
       "      <td>...</td>\n",
       "      <td>...</td>\n",
       "      <td>...</td>\n",
       "      <td>...</td>\n",
       "      <td>...</td>\n",
       "      <td>...</td>\n",
       "      <td>...</td>\n",
       "      <td>...</td>\n",
       "    </tr>\n",
       "    <tr>\n",
       "      <th>사 용 수</th>\n",
       "      <td>0.161267</td>\n",
       "      <td>0.003725</td>\n",
       "      <td>0.274591</td>\n",
       "      <td>0.016936</td>\n",
       "      <td>0.497137</td>\n",
       "      <td>0.106717</td>\n",
       "      <td>0.057637</td>\n",
       "      <td>0.096442</td>\n",
       "      <td>0.569508</td>\n",
       "      <td>0.193322</td>\n",
       "      <td>...</td>\n",
       "      <td>0.091926</td>\n",
       "      <td>0.124589</td>\n",
       "      <td>0.047498</td>\n",
       "      <td>0.160757</td>\n",
       "      <td>0.125480</td>\n",
       "      <td>1.000000</td>\n",
       "      <td>0.455337</td>\n",
       "      <td>0.149123</td>\n",
       "      <td>0.161267</td>\n",
       "      <td>0.003725</td>\n",
       "    </tr>\n",
       "    <tr>\n",
       "      <th>카게게</th>\n",
       "      <td>0.102552</td>\n",
       "      <td>0.005459</td>\n",
       "      <td>0.199578</td>\n",
       "      <td>0.010560</td>\n",
       "      <td>0.445523</td>\n",
       "      <td>0.066264</td>\n",
       "      <td>0.041442</td>\n",
       "      <td>0.075599</td>\n",
       "      <td>0.416089</td>\n",
       "      <td>0.137581</td>\n",
       "      <td>...</td>\n",
       "      <td>0.211748</td>\n",
       "      <td>0.223153</td>\n",
       "      <td>0.118499</td>\n",
       "      <td>0.156191</td>\n",
       "      <td>0.095324</td>\n",
       "      <td>0.455337</td>\n",
       "      <td>1.000000</td>\n",
       "      <td>0.271636</td>\n",
       "      <td>0.102552</td>\n",
       "      <td>0.005459</td>\n",
       "    </tr>\n",
       "    <tr>\n",
       "      <th>IAKIL</th>\n",
       "      <td>0.177058</td>\n",
       "      <td>0.015395</td>\n",
       "      <td>0.144065</td>\n",
       "      <td>0.009552</td>\n",
       "      <td>0.123392</td>\n",
       "      <td>0.112703</td>\n",
       "      <td>0.035474</td>\n",
       "      <td>0.105005</td>\n",
       "      <td>0.124677</td>\n",
       "      <td>0.160190</td>\n",
       "      <td>...</td>\n",
       "      <td>0.069688</td>\n",
       "      <td>0.759511</td>\n",
       "      <td>0.174145</td>\n",
       "      <td>0.137120</td>\n",
       "      <td>0.034547</td>\n",
       "      <td>0.149123</td>\n",
       "      <td>0.271636</td>\n",
       "      <td>1.000000</td>\n",
       "      <td>0.177058</td>\n",
       "      <td>0.015395</td>\n",
       "    </tr>\n",
       "    <tr>\n",
       "      <th>jooI</th>\n",
       "      <td>1.000000</td>\n",
       "      <td>0.022458</td>\n",
       "      <td>0.647396</td>\n",
       "      <td>0.071693</td>\n",
       "      <td>0.190528</td>\n",
       "      <td>0.710296</td>\n",
       "      <td>0.038351</td>\n",
       "      <td>0.820694</td>\n",
       "      <td>0.172132</td>\n",
       "      <td>0.695309</td>\n",
       "      <td>...</td>\n",
       "      <td>0.025006</td>\n",
       "      <td>0.156684</td>\n",
       "      <td>0.527983</td>\n",
       "      <td>0.219524</td>\n",
       "      <td>0.040231</td>\n",
       "      <td>0.161267</td>\n",
       "      <td>0.102552</td>\n",
       "      <td>0.177058</td>\n",
       "      <td>1.000000</td>\n",
       "      <td>0.022458</td>\n",
       "    </tr>\n",
       "    <tr>\n",
       "      <th>Bmav</th>\n",
       "      <td>0.022458</td>\n",
       "      <td>1.000000</td>\n",
       "      <td>0.024778</td>\n",
       "      <td>0.005214</td>\n",
       "      <td>0.024289</td>\n",
       "      <td>0.020561</td>\n",
       "      <td>0.002521</td>\n",
       "      <td>0.028021</td>\n",
       "      <td>0.011281</td>\n",
       "      <td>0.065917</td>\n",
       "      <td>...</td>\n",
       "      <td>0.001808</td>\n",
       "      <td>0.013143</td>\n",
       "      <td>0.026469</td>\n",
       "      <td>0.018780</td>\n",
       "      <td>0.001947</td>\n",
       "      <td>0.003725</td>\n",
       "      <td>0.005459</td>\n",
       "      <td>0.015395</td>\n",
       "      <td>0.022458</td>\n",
       "      <td>1.000000</td>\n",
       "    </tr>\n",
       "  </tbody>\n",
       "</table>\n",
       "<p>300 rows × 300 columns</p>\n",
       "</div>"
      ],
      "text/plain": [
       "                 vvi2  liu de hua  DWG Canyon  can see you  T1 Burdol  \\\n",
       "vvi2         1.000000    0.022458    0.647396     0.071693   0.190528   \n",
       "liu de hua   0.022458    1.000000    0.024778     0.005214   0.024289   \n",
       "DWG Canyon   0.647396    0.024778    1.000000     0.114861   0.245174   \n",
       "can see you  0.071693    0.005214    0.114861     1.000000   0.006649   \n",
       "T1 Burdol    0.190528    0.024289    0.245174     0.006649   1.000000   \n",
       "...               ...         ...         ...          ...        ...   \n",
       "사 용 수        0.161267    0.003725    0.274591     0.016936   0.497137   \n",
       "카게게          0.102552    0.005459    0.199578     0.010560   0.445523   \n",
       "IAKIL        0.177058    0.015395    0.144065     0.009552   0.123392   \n",
       "jooI         1.000000    0.022458    0.647396     0.071693   0.190528   \n",
       "Bmav         0.022458    1.000000    0.024778     0.005214   0.024289   \n",
       "\n",
       "             버기해적단 버기  ehfdkdhsakql  XiaoHuaSheng7  SANDBOX Howling    Tar2an  \\\n",
       "vvi2         0.710296      0.038351       0.820694         0.172132  0.695309   \n",
       "liu de hua   0.020561      0.002521       0.028021         0.011281  0.065917   \n",
       "DWG Canyon   0.664164      0.028527       0.724303         0.287801  0.716107   \n",
       "can see you  0.089025      0.003663       0.111962         0.010734  0.069789   \n",
       "T1 Burdol    0.069873      0.043682       0.081800         0.581745  0.105595   \n",
       "...               ...           ...            ...              ...       ...   \n",
       "사 용 수        0.106717      0.057637       0.096442         0.569508  0.193322   \n",
       "카게게          0.066264      0.041442       0.075599         0.416089  0.137581   \n",
       "IAKIL        0.112703      0.035474       0.105005         0.124677  0.160190   \n",
       "jooI         0.710296      0.038351       0.820694         0.172132  0.695309   \n",
       "Bmav         0.020561      0.002521       0.028021         0.011281  0.065917   \n",
       "\n",
       "             ...   DRX 홍창현    KronGG  dongshiyuan1hao     Axiyo    준탱이528  \\\n",
       "vvi2         ...  0.025006  0.156684         0.527983  0.219524  0.040231   \n",
       "liu de hua   ...  0.001808  0.013143         0.026469  0.018780  0.001947   \n",
       "DWG Canyon   ...  0.024369  0.084257         0.476112  0.224488  0.085616   \n",
       "can see you  ...  0.004084  0.014516         0.059639  0.148188  0.043470   \n",
       "T1 Burdol    ...  0.075412  0.118188         0.061293  0.366384  0.149108   \n",
       "...          ...       ...       ...              ...       ...       ...   \n",
       "사 용 수        ...  0.091926  0.124589         0.047498  0.160757  0.125480   \n",
       "카게게          ...  0.211748  0.223153         0.118499  0.156191  0.095324   \n",
       "IAKIL        ...  0.069688  0.759511         0.174145  0.137120  0.034547   \n",
       "jooI         ...  0.025006  0.156684         0.527983  0.219524  0.040231   \n",
       "Bmav         ...  0.001808  0.013143         0.026469  0.018780  0.001947   \n",
       "\n",
       "                사 용 수       카게게     IAKIL      jooI      Bmav  \n",
       "vvi2         0.161267  0.102552  0.177058  1.000000  0.022458  \n",
       "liu de hua   0.003725  0.005459  0.015395  0.022458  1.000000  \n",
       "DWG Canyon   0.274591  0.199578  0.144065  0.647396  0.024778  \n",
       "can see you  0.016936  0.010560  0.009552  0.071693  0.005214  \n",
       "T1 Burdol    0.497137  0.445523  0.123392  0.190528  0.024289  \n",
       "...               ...       ...       ...       ...       ...  \n",
       "사 용 수        1.000000  0.455337  0.149123  0.161267  0.003725  \n",
       "카게게          0.455337  1.000000  0.271636  0.102552  0.005459  \n",
       "IAKIL        0.149123  0.271636  1.000000  0.177058  0.015395  \n",
       "jooI         0.161267  0.102552  0.177058  1.000000  0.022458  \n",
       "Bmav         0.003725  0.005459  0.015395  0.022458  1.000000  \n",
       "\n",
       "[300 rows x 300 columns]"
      ]
     },
     "execution_count": 73,
     "metadata": {},
     "output_type": "execute_result"
    }
   ],
   "source": [
    "df_user_user_sim"
   ]
  },
  {
   "cell_type": "markdown",
   "metadata": {},
   "source": [
    "### 상위 5개의 유사도를 가진 유저 가져옴\n",
    "### 10개로할까?"
   ]
  },
  {
   "cell_type": "code",
   "execution_count": 174,
   "metadata": {
    "scrolled": false
   },
   "outputs": [
    {
     "data": {
      "text/plain": [
       "JUGKlNG      0.923532\n",
       "단군의청춘부재      0.780219\n",
       "By myse1f    0.775527\n",
       "Ar1a         0.770979\n",
       "gganknam     0.769793\n",
       "Name: DWG Canyon, dtype: float64"
      ]
     },
     "execution_count": 174,
     "metadata": {},
     "output_type": "execute_result"
    }
   ],
   "source": [
    "df_user_user_sim['DWG Canyon'].sort_values(ascending=False)[1:6]"
   ]
  },
  {
   "cell_type": "markdown",
   "metadata": {},
   "source": [
    "### DWG Canyon에 대해서 추천을 처리해 줄 행을 뽑아옴(Series형태)\n",
    "\n",
    "deepcopy로 뽑아와야 함\n",
    "shallowcopy하면 reference연동되서 값이 변동됨."
   ]
  },
  {
   "cell_type": "code",
   "execution_count": 112,
   "metadata": {},
   "outputs": [
    {
     "data": {
      "text/plain": [
       "266    0.600000\n",
       "103    0.005527\n",
       "84     0.032101\n",
       "12     0.005838\n",
       "32     0.000000\n",
       "         ...   \n",
       "238    0.000000\n",
       "115    0.000000\n",
       "26     0.037176\n",
       "142    0.059218\n",
       "143    0.000642\n",
       "Name: DWG Canyon, Length: 150, dtype: float64"
      ]
     },
     "execution_count": 112,
     "metadata": {},
     "output_type": "execute_result"
    }
   ],
   "source": [
    "recommend_user_mastery = copy.deepcopy(user_mastery.loc['DWG Canyon',:])\n",
    "recommend_user_mastery"
   ]
  },
  {
   "cell_type": "markdown",
   "metadata": {},
   "source": [
    "### DWG Canyon플레이어가 한판이라도 플레이 한 (threshold=0) 챔피언 list"
   ]
  },
  {
   "cell_type": "code",
   "execution_count": 98,
   "metadata": {
    "scrolled": false
   },
   "outputs": [
    {
     "data": {
      "text/plain": [
       "Index(['266', '103', '84', '12', '523', '22', '432', '53', '63', '51', '164',\n",
       "       '69', '42', '122', '131', '36', '245', '60', '28', '81', '9', '114',\n",
       "       '105', '41', '79', '104', '120', '39', '427', '59', '24', '126', '222',\n",
       "       '145', '429', '30', '55', '141', '121', '203', '7', '64', '876', '127',\n",
       "       '236', '99', '54', '11', '21', '62', '82', '25', '267', '75', '76',\n",
       "       '56', '20', '2', '61', '516', '78', '555', '246', '133', '33', '421',\n",
       "       '107', '92', '68', '13', '113', '875', '35', '102', '14', '15', '72',\n",
       "       '50', '517', '163', '91', '48', '4', '77', '6', '110', '45', '112', '8',\n",
       "       '106', '498', '101', '5', '157', '83', '154', '26', '142', '143'],\n",
       "      dtype='object')"
      ]
     },
     "execution_count": 98,
     "metadata": {},
     "output_type": "execute_result"
    }
   ],
   "source": [
    "played = user_mastery.loc['DWG Canyon',:][user_mastery.loc['DWG Canyon',:]>0].index\n",
    "played"
   ]
  },
  {
   "cell_type": "markdown",
   "metadata": {},
   "source": [
    "### DWG Canyon플레이어가 한판이라도 플레이 하지 않은 (threshold=0) 챔피언 list"
   ]
  },
  {
   "cell_type": "code",
   "execution_count": 99,
   "metadata": {
    "scrolled": false
   },
   "outputs": [
    {
     "data": {
      "text/plain": [
       "Index(['32', '34', '1', '136', '268', '201', '31', '119', '3', '86', '150',\n",
       "       '74', '420', '40', '202', '43', '38', '10', '85', '240', '96', '89',\n",
       "       '117', '90', '57', '111', '518', '80', '497', '58', '235', '98', '27',\n",
       "       '37', '16', '134', '223', '44', '17', '412', '18', '23', '29', '67',\n",
       "       '161', '254', '19', '777', '350', '238', '115'],\n",
       "      dtype='object')"
      ]
     },
     "execution_count": 99,
     "metadata": {},
     "output_type": "execute_result"
    }
   ],
   "source": [
    "unplayed = user_mastery.loc['DWG Canyon',:][user_mastery.loc['DWG Canyon',:]==0].index\n",
    "unplayed"
   ]
  },
  {
   "cell_type": "markdown",
   "metadata": {},
   "source": [
    "### 한판이라도 플레이 안 한 챔피언 list의 점수를 업데이트 한다!"
   ]
  },
  {
   "cell_type": "code",
   "execution_count": 149,
   "metadata": {},
   "outputs": [],
   "source": [
    "for champ in unplayed:\n",
    "    temp_val=0;\n",
    "    temp_sim=0;\n",
    "    for top_k in df_user_user_sim['DWG Canyon'].sort_values(ascending=False)[1:6].index:\n",
    "        temp_val +=df_user_user_sim['DWG Canyon'][top_k]*user_mastery.loc[top_k,champ]\n",
    "        temp_sim +=df_user_user_sim['DWG Canyon'][top_k]\n",
    "    recommend_user_mastery[champ]=temp_val/temp_sim"
   ]
  },
  {
   "cell_type": "markdown",
   "metadata": {},
   "source": [
    "### 기존에 플레이 했던 챔피언들 포함 정렬"
   ]
  },
  {
   "cell_type": "code",
   "execution_count": 170,
   "metadata": {
    "scrolled": true
   },
   "outputs": [
    {
     "data": {
      "text/plain": [
       "64     1.000000\n",
       "163    0.823363\n",
       "266    0.700000\n",
       "76     0.418641\n",
       "517    0.290961\n",
       "141    0.277616\n",
       "421    0.231038\n",
       "875    0.219241\n",
       "30     0.211460\n",
       "126    0.202985\n",
       "203    0.189640\n",
       "164    0.186618\n",
       "28     0.178248\n",
       "60     0.174426\n",
       "121    0.167814\n",
       "13     0.157238\n",
       "79     0.150174\n",
       "39     0.133591\n",
       "145    0.102285\n",
       "5      0.094946\n",
       "81     0.091461\n",
       "120    0.089545\n",
       "104    0.087308\n",
       "113    0.077085\n",
       "245    0.074621\n",
       "202    0.070299\n",
       "142    0.059218\n",
       "53     0.056891\n",
       "236    0.055612\n",
       "20     0.054664\n",
       "48     0.052021\n",
       "43     0.051061\n",
       "106    0.050858\n",
       "876    0.047994\n",
       "6      0.045746\n",
       "246    0.044188\n",
       "555    0.043478\n",
       "92     0.042356\n",
       "38     0.041429\n",
       "9      0.040635\n",
       "498    0.040293\n",
       "2      0.040219\n",
       "63     0.037813\n",
       "26     0.037176\n",
       "80     0.036883\n",
       "154    0.036771\n",
       "3      0.036422\n",
       "134    0.035857\n",
       "21     0.033718\n",
       "84     0.032101\n",
       "Name: DWG Canyon, dtype: float64"
      ]
     },
     "execution_count": 170,
     "metadata": {},
     "output_type": "execute_result"
    }
   ],
   "source": [
    "recommend_user_mastery.sort_values(ascending=False)[:50]"
   ]
  },
  {
   "cell_type": "code",
   "execution_count": 152,
   "metadata": {},
   "outputs": [
    {
     "data": {
      "text/plain": [
       "Index(['64', '163', '266', '76', '517'], dtype='object')"
      ]
     },
     "execution_count": 152,
     "metadata": {},
     "output_type": "execute_result"
    }
   ],
   "source": [
    "recommend_user_mastery.sort_values(ascending=False).index[:5]"
   ]
  },
  {
   "cell_type": "markdown",
   "metadata": {},
   "source": [
    "### 기존에 플레이 하지 않았던 챔피언들만 정렬"
   ]
  },
  {
   "cell_type": "code",
   "execution_count": 166,
   "metadata": {},
   "outputs": [
    {
     "data": {
      "text/plain": [
       "202    0.070299\n",
       "43     0.051061\n",
       "38     0.041429\n",
       "80     0.036883\n",
       "3      0.036422\n",
       "134    0.035857\n",
       "111    0.023177\n",
       "58     0.022306\n",
       "238    0.019183\n",
       "40     0.018783\n",
       "67     0.016664\n",
       "412    0.015877\n",
       "16     0.015707\n",
       "96     0.014352\n",
       "29     0.013352\n",
       "31     0.012979\n",
       "235    0.012876\n",
       "223    0.012295\n",
       "497    0.011954\n",
       "10     0.011582\n",
       "1      0.011079\n",
       "90     0.009552\n",
       "136    0.009417\n",
       "98     0.009354\n",
       "27     0.008385\n",
       "119    0.006266\n",
       "268    0.005986\n",
       "254    0.005738\n",
       "518    0.005721\n",
       "18     0.005585\n",
       "86     0.005186\n",
       "240    0.005121\n",
       "115    0.004740\n",
       "89     0.003935\n",
       "117    0.003590\n",
       "57     0.003159\n",
       "37     0.002883\n",
       "777    0.002852\n",
       "44     0.002459\n",
       "161    0.002453\n",
       "201    0.002402\n",
       "34     0.002151\n",
       "85     0.002148\n",
       "150    0.002105\n",
       "23     0.001498\n",
       "17     0.001493\n",
       "350    0.001293\n",
       "32     0.001250\n",
       "19     0.000886\n",
       "74     0.000859\n",
       "420    0.000252\n",
       "Name: DWG Canyon, dtype: float64"
      ]
     },
     "execution_count": 166,
     "metadata": {},
     "output_type": "execute_result"
    }
   ],
   "source": [
    "recommend_user_mastery[unplayed].sort_values(ascending=False)"
   ]
  },
  {
   "cell_type": "code",
   "execution_count": 143,
   "metadata": {
    "scrolled": true
   },
   "outputs": [
    {
     "data": {
      "text/plain": [
       "Index(['202', '43', '38', '80', '3'], dtype='object')"
      ]
     },
     "execution_count": 143,
     "metadata": {},
     "output_type": "execute_result"
    }
   ],
   "source": [
    "recommend_user_mastery[unplayed].sort_values(ascending=False).index[:5]"
   ]
  },
  {
   "cell_type": "markdown",
   "metadata": {},
   "source": [
    "## 모듈화 input(추천받을소환사명=\"name\",상위n개의 챔피언=n, 유사도 상위 k 개=k,플레이안한기준=threshold, 기존챔프포함=True/False)\n",
    "## output list"
   ]
  },
  {
   "cell_type": "code",
   "execution_count": 162,
   "metadata": {},
   "outputs": [],
   "source": [
    "def recommend_champ_by_mastery(sohwan,n=5, k=10,threshold=0, include=True):\n",
    "    global user_mastery\n",
    "    global user_user_sim\n",
    "    \n",
    "    # 유사도 상위 k개의 유저 리스트\n",
    "    top_k_sohwan = df_user_user_sim['DWG Canyon'].sort_values(ascending=False)[1:k+1].index\n",
    "    \n",
    "    # DWG Canyon에 대해서 추천을 처리해 줄 행을 뽑아옴(Series형태)\n",
    "    recommend_user_mastery = copy.deepcopy(user_mastery.loc[sohwan,:])\n",
    "    \n",
    "    # DWG Canyon플레이어가 한판이라도 플레이 하지 않은 (threshold<=) 챔피언 list\n",
    "    unplayed = user_mastery.loc['DWG Canyon',:][user_mastery.loc['DWG Canyon',:]<=threshold].index\n",
    "    \n",
    "    # 한판이라도 플레이 안 한 챔피언 list의 점수를 업데이트 한다!\n",
    "    for champ in unplayed:\n",
    "        temp_val=0;\n",
    "        temp_sim=0;\n",
    "        for top_k in top_k_sohwan:\n",
    "            temp_val +=df_user_user_sim['DWG Canyon'][top_k]*user_mastery.loc[top_k,champ]\n",
    "            temp_sim +=df_user_user_sim['DWG Canyon'][top_k]\n",
    "        recommend_user_mastery[champ]=temp_val/temp_sim\n",
    "    \n",
    "    if include:\n",
    "        return recommend_user_mastery.sort_values(ascending=False).index[:n]\n",
    "    else:\n",
    "        return recommend_user_mastery[unplayed].sort_values(ascending=False).index[:n]"
   ]
  },
  {
   "cell_type": "code",
   "execution_count": 172,
   "metadata": {},
   "outputs": [
    {
     "data": {
      "text/plain": [
       "Index(['64', '163', '266', '76', '517'], dtype='object')"
      ]
     },
     "execution_count": 172,
     "metadata": {},
     "output_type": "execute_result"
    }
   ],
   "source": [
    "recommend_champ_by_mastery('DWG Canyon',5,10,0.1,True)"
   ]
  },
  {
   "cell_type": "code",
   "execution_count": 173,
   "metadata": {},
   "outputs": [
    {
     "data": {
      "text/plain": [
       "Index(['104', '245', '2', '81', '59'], dtype='object')"
      ]
     },
     "execution_count": 173,
     "metadata": {},
     "output_type": "execute_result"
    }
   ],
   "source": [
    "recommend_champ_by_mastery('DWG Canyon',5,10,0.1,False)"
   ]
  }
 ],
 "metadata": {
  "kernelspec": {
   "display_name": "Python 3",
   "language": "python",
   "name": "python3"
  },
  "language_info": {
   "codemirror_mode": {
    "name": "ipython",
    "version": 3
   },
   "file_extension": ".py",
   "mimetype": "text/x-python",
   "name": "python",
   "nbconvert_exporter": "python",
   "pygments_lexer": "ipython3",
   "version": "3.8.5"
  }
 },
 "nbformat": 4,
 "nbformat_minor": 4
}
