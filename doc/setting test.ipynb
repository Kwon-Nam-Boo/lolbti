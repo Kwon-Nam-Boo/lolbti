{
 "cells": [
  {
   "cell_type": "code",
   "execution_count": 1,
   "metadata": {},
   "outputs": [],
   "source": [
    "import requests\n",
    "import numpy as np\n",
    "import pandas as pd\n",
    "\n",
    "import time\n",
    "\n",
    "from tqdm import tqdm\n",
    "from tqdm import trange\n",
    "\n",
    "api_key_list = ['RGAPI-e46e0823-d634-4337-b492-f131cff74c71',\n",
    "           'RGAPI-dce60bc3-5333-4eee-9851-403ea7d22e0c',\n",
    "           'RGAPI-2ad229a4-353c-4ad7-b30b-a506c69ab198',\n",
    "           'RGAPI-da49205c-5b5e-4043-a3c4-e85b2cceb1c1',\n",
    "           'RGAPI-29d0374b-5bf0-4364-9ddd-a51f96198f8d',\n",
    "           'RGAPI-3d45b75b-4a2b-4d40-b01f-a0e486e06d96',\n",
    "           'RGAPI-d81f7a6f-2634-408d-9dbf-8f371e719d54'\n",
    "          ]"
   ]
  },
  {
   "cell_type": "code",
   "execution_count": 11,
   "metadata": {
    "scrolled": true
   },
   "outputs": [
    {
     "name": "stderr",
     "output_type": "stream",
     "text": [
      " 19%|█▉        | 38/200 [00:07<00:34,  4.70it/s]"
     ]
    },
    {
     "name": "stdout",
     "output_type": "stream",
     "text": [
      "change key\n"
     ]
    },
    {
     "name": "stderr",
     "output_type": "stream",
     "text": [
      " 70%|███████   | 140/200 [00:29<00:11,  5.17it/s]"
     ]
    },
    {
     "name": "stdout",
     "output_type": "stream",
     "text": [
      "change key\n",
      "change key\n"
     ]
    },
    {
     "name": "stderr",
     "output_type": "stream",
     "text": [
      " 71%|███████   | 142/200 [00:30<00:10,  5.45it/s]"
     ]
    },
    {
     "name": "stdout",
     "output_type": "stream",
     "text": [
      "change key\n",
      "change key\n"
     ]
    },
    {
     "name": "stderr",
     "output_type": "stream",
     "text": [
      " 72%|███████▏  | 144/200 [00:30<00:09,  5.68it/s]"
     ]
    },
    {
     "name": "stdout",
     "output_type": "stream",
     "text": [
      "change key\n",
      "change key\n"
     ]
    },
    {
     "name": "stderr",
     "output_type": "stream",
     "text": [
      " 73%|███████▎  | 146/200 [00:30<00:09,  5.83it/s]"
     ]
    },
    {
     "name": "stdout",
     "output_type": "stream",
     "text": [
      "change key\n",
      "change key\n"
     ]
    },
    {
     "name": "stderr",
     "output_type": "stream",
     "text": [
      " 74%|███████▍  | 148/200 [00:31<00:08,  5.84it/s]"
     ]
    },
    {
     "name": "stdout",
     "output_type": "stream",
     "text": [
      "change key\n",
      "change key\n"
     ]
    },
    {
     "name": "stderr",
     "output_type": "stream",
     "text": [
      " 75%|███████▌  | 150/200 [00:31<00:08,  5.94it/s]"
     ]
    },
    {
     "name": "stdout",
     "output_type": "stream",
     "text": [
      "change key\n",
      "change key\n"
     ]
    },
    {
     "name": "stderr",
     "output_type": "stream",
     "text": [
      " 76%|███████▌  | 152/200 [00:31<00:08,  5.84it/s]"
     ]
    },
    {
     "name": "stdout",
     "output_type": "stream",
     "text": [
      "change key\n",
      "change key\n"
     ]
    },
    {
     "name": "stderr",
     "output_type": "stream",
     "text": [
      " 77%|███████▋  | 154/200 [00:32<00:08,  5.72it/s]"
     ]
    },
    {
     "name": "stdout",
     "output_type": "stream",
     "text": [
      "change key\n",
      "change key\n"
     ]
    },
    {
     "name": "stderr",
     "output_type": "stream",
     "text": [
      " 78%|███████▊  | 156/200 [00:32<00:07,  5.64it/s]"
     ]
    },
    {
     "name": "stdout",
     "output_type": "stream",
     "text": [
      "change key\n",
      "change key\n"
     ]
    },
    {
     "name": "stderr",
     "output_type": "stream",
     "text": [
      " 79%|███████▉  | 158/200 [00:32<00:07,  5.67it/s]"
     ]
    },
    {
     "name": "stdout",
     "output_type": "stream",
     "text": [
      "change key\n",
      "change key\n"
     ]
    },
    {
     "name": "stderr",
     "output_type": "stream",
     "text": [
      " 80%|████████  | 160/200 [00:33<00:06,  5.84it/s]"
     ]
    },
    {
     "name": "stdout",
     "output_type": "stream",
     "text": [
      "change key\n",
      "change key\n"
     ]
    },
    {
     "name": "stderr",
     "output_type": "stream",
     "text": [
      " 81%|████████  | 162/200 [00:33<00:06,  5.76it/s]"
     ]
    },
    {
     "name": "stdout",
     "output_type": "stream",
     "text": [
      "change key\n",
      "change key\n"
     ]
    },
    {
     "name": "stderr",
     "output_type": "stream",
     "text": [
      " 82%|████████▏ | 164/200 [00:33<00:06,  5.65it/s]"
     ]
    },
    {
     "name": "stdout",
     "output_type": "stream",
     "text": [
      "change key\n",
      "change key\n"
     ]
    },
    {
     "name": "stderr",
     "output_type": "stream",
     "text": [
      " 83%|████████▎ | 166/200 [00:34<00:05,  5.77it/s]"
     ]
    },
    {
     "name": "stdout",
     "output_type": "stream",
     "text": [
      "change key\n",
      "change key\n"
     ]
    },
    {
     "name": "stderr",
     "output_type": "stream",
     "text": [
      " 84%|████████▍ | 168/200 [00:34<00:05,  5.76it/s]"
     ]
    },
    {
     "name": "stdout",
     "output_type": "stream",
     "text": [
      "change key\n",
      "change key\n"
     ]
    },
    {
     "name": "stderr",
     "output_type": "stream",
     "text": [
      " 85%|████████▌ | 170/200 [00:34<00:05,  5.70it/s]"
     ]
    },
    {
     "name": "stdout",
     "output_type": "stream",
     "text": [
      "change key\n",
      "change key\n"
     ]
    },
    {
     "name": "stderr",
     "output_type": "stream",
     "text": [
      " 86%|████████▌ | 172/200 [00:35<00:04,  5.89it/s]"
     ]
    },
    {
     "name": "stdout",
     "output_type": "stream",
     "text": [
      "change key\n",
      "change key\n"
     ]
    },
    {
     "name": "stderr",
     "output_type": "stream",
     "text": [
      " 87%|████████▋ | 174/200 [00:35<00:04,  5.86it/s]"
     ]
    },
    {
     "name": "stdout",
     "output_type": "stream",
     "text": [
      "change key\n",
      "change key\n"
     ]
    },
    {
     "name": "stderr",
     "output_type": "stream",
     "text": [
      " 88%|████████▊ | 176/200 [00:35<00:04,  5.84it/s]"
     ]
    },
    {
     "name": "stdout",
     "output_type": "stream",
     "text": [
      "change key\n",
      "change key\n"
     ]
    },
    {
     "name": "stderr",
     "output_type": "stream",
     "text": [
      " 89%|████████▉ | 178/200 [00:36<00:03,  5.73it/s]"
     ]
    },
    {
     "name": "stdout",
     "output_type": "stream",
     "text": [
      "change key\n",
      "change key\n"
     ]
    },
    {
     "name": "stderr",
     "output_type": "stream",
     "text": [
      " 90%|█████████ | 180/200 [00:36<00:03,  5.72it/s]"
     ]
    },
    {
     "name": "stdout",
     "output_type": "stream",
     "text": [
      "change key\n",
      "change key\n"
     ]
    },
    {
     "name": "stderr",
     "output_type": "stream",
     "text": [
      " 91%|█████████ | 182/200 [00:37<00:03,  5.79it/s]"
     ]
    },
    {
     "name": "stdout",
     "output_type": "stream",
     "text": [
      "change key\n",
      "change key\n"
     ]
    },
    {
     "name": "stderr",
     "output_type": "stream",
     "text": [
      " 92%|█████████▏| 184/200 [00:37<00:02,  5.88it/s]"
     ]
    },
    {
     "name": "stdout",
     "output_type": "stream",
     "text": [
      "change key\n",
      "change key\n"
     ]
    },
    {
     "name": "stderr",
     "output_type": "stream",
     "text": [
      " 93%|█████████▎| 186/200 [00:37<00:02,  5.83it/s]"
     ]
    },
    {
     "name": "stdout",
     "output_type": "stream",
     "text": [
      "change key\n",
      "change key\n"
     ]
    },
    {
     "name": "stderr",
     "output_type": "stream",
     "text": [
      " 94%|█████████▍| 188/200 [00:38<00:02,  5.94it/s]"
     ]
    },
    {
     "name": "stdout",
     "output_type": "stream",
     "text": [
      "change key\n",
      "change key\n"
     ]
    },
    {
     "name": "stderr",
     "output_type": "stream",
     "text": [
      " 95%|█████████▌| 190/200 [00:38<00:01,  6.02it/s]"
     ]
    },
    {
     "name": "stdout",
     "output_type": "stream",
     "text": [
      "change key\n",
      "change key\n"
     ]
    },
    {
     "name": "stderr",
     "output_type": "stream",
     "text": [
      " 96%|█████████▌| 192/200 [00:38<00:01,  5.89it/s]"
     ]
    },
    {
     "name": "stdout",
     "output_type": "stream",
     "text": [
      "change key\n",
      "change key\n"
     ]
    },
    {
     "name": "stderr",
     "output_type": "stream",
     "text": [
      " 97%|█████████▋| 194/200 [00:39<00:01,  5.91it/s]"
     ]
    },
    {
     "name": "stdout",
     "output_type": "stream",
     "text": [
      "change key\n",
      "change key\n"
     ]
    },
    {
     "name": "stderr",
     "output_type": "stream",
     "text": [
      " 98%|█████████▊| 196/200 [00:39<00:00,  5.79it/s]"
     ]
    },
    {
     "name": "stdout",
     "output_type": "stream",
     "text": [
      "change key\n",
      "change key\n"
     ]
    },
    {
     "name": "stderr",
     "output_type": "stream",
     "text": [
      " 99%|█████████▉| 198/200 [00:39<00:00,  5.81it/s]"
     ]
    },
    {
     "name": "stdout",
     "output_type": "stream",
     "text": [
      "change key\n",
      "change key\n"
     ]
    },
    {
     "name": "stderr",
     "output_type": "stream",
     "text": [
      "100%|██████████| 200/200 [00:40<00:00,  4.99it/s]"
     ]
    },
    {
     "name": "stdout",
     "output_type": "stream",
     "text": [
      "change key\n",
      "change key\n"
     ]
    },
    {
     "name": "stderr",
     "output_type": "stream",
     "text": [
      "\n"
     ]
    }
   ],
   "source": [
    "#default\n",
    "key_idx = 0\n",
    "api_key = api_key_list[key_idx]\n",
    "\n",
    "# update\n",
    "# key_idx = (key_idx+1)%len(api_key_list)\n",
    "# api_key = api_key_list[key_idx]\n",
    "\n",
    "\n",
    "# request 예시\n",
    "sohwan_name = 'hide on bush'\n",
    "sohwan_url = \"https://kr.api.riotgames.com/lol/summoner/v4/summoners/by-name/\" + sohwan_name +'?api_key=' + api_key\n",
    "r = requests.get(sohwan_url)\n",
    "r.json()\n",
    "\n",
    "api_url = 'https://kr.api.riotgames.com/lol/summoner/v4/summoners/by-name/' + 'hide on bush' + '?api_key=' + api_key \n",
    "\n",
    "for i in tqdm(range(200)):\n",
    "    try:\n",
    "        r = requests.get(api_url)\n",
    "        \n",
    "        if r.status_code == 200: # response가 정상이면 바로 맨 밑으로 이동하여 정상적으로 코드 실행\n",
    "            pass\n",
    "\n",
    "        elif r.status_code == 403: # api갱신이 필요\n",
    "            print('you need renewal key no.{}'.format(key_idx))\n",
    "            break\n",
    "        else:\n",
    "            # update\n",
    "            print(\"change key\")\n",
    "            key_idx = (key_idx+1)%len(api_key_list)\n",
    "            api_key = api_key_list[key_idx]\n",
    "            api_url = 'https://kr.api.riotgames.com/lol/summoner/v4/summoners/by-name/' + 'hide on bush' + '?api_key=' + api_key \n",
    "        \n",
    "#         account_id = r.json()['accountId']\n",
    "#         challenger_id.append(account_id)\n",
    "        \n",
    "    except:\n",
    "        pass"
   ]
  },
  {
   "cell_type": "code",
   "execution_count": null,
   "metadata": {},
   "outputs": [],
   "source": [
    "import requests\n",
    "import numpy as np\n",
    "import pandas as pd\n",
    "\n",
    "import time\n",
    "\n",
    "from tqdm import tqdm\n",
    "from tqdm import trange\n",
    "\n",
    "from multiprocessing import Pool # Pool import하기\n",
    "\n",
    "def getData(junN):\n",
    "    \n",
    "    api_key_list = ['RGAPI-e46e0823-d634-4337-b492-f131cff74c71',\n",
    "            'RGAPI-dce60bc3-5333-4eee-9851-403ea7d22e0c',\n",
    "            'RGAPI-2ad229a4-353c-4ad7-b30b-a506c69ab198',\n",
    "            'RGAPI-da49205c-5b5e-4043-a3c4-e85b2cceb1c1',\n",
    "            'RGAPI-29d0374b-5bf0-4364-9ddd-a51f96198f8d',\n",
    "            'RGAPI-3d45b75b-4a2b-4d40-b01f-a0e486e06d96',\n",
    "            'RGAPI-d81f7a6f-2634-408d-9dbf-8f371e719d54'\n",
    "            ]\n",
    "    #default\n",
    "    key_idx = 0\n",
    "    api_key = api_key_list[key_idx]\n",
    "\n",
    "    # update\n",
    "    # key_idx = (key_idx+1)%len(api_key_list)\n",
    "    # api_key = api_key_list[key_idx]\n",
    "\n",
    "\n",
    "    # request 예시\n",
    "    sohwan_name = 'hide on bush'\n",
    "    sohwan_url = \"https://kr.api.riotgames.com/lol/summoner/v4/summoners/by-name/\" + sohwan_name +'?api_key=' + api_key\n",
    "    r = requests.get(sohwan_url)\n",
    "    r.json()\n",
    "\n",
    "    api_url = 'https://kr.api.riotgames.com/lol/summoner/v4/summoners/by-name/' + 'hide on bush' + '?api_key=' + api_key \n",
    "\n",
    "    for i in tqdm(range(junN, junN+50)):\n",
    "        try:\n",
    "            r = requests.get(api_url)\n",
    "            \n",
    "            if r.status_code == 200: # response가 정상이면 바로 맨 밑으로 이동하여 정상적으로 코드 실행\n",
    "                pass\n",
    "\n",
    "            elif r.status_code == 403: # api갱신이 필요\n",
    "                print('you need renewal key no.{}'.format(key_idx))\n",
    "                break\n",
    "            else:\n",
    "                # update\n",
    "                print(\"change key\")\n",
    "                key_idx = (key_idx+1)%len(api_key_list)\n",
    "                api_key = api_key_list[key_idx]\n",
    "                api_url = 'https://kr.api.riotgames.com/lol/summoner/v4/summoners/by-name/' + 'hide on bush' + '?api_key=' + api_key \n",
    "            \n",
    "    #         account_id = r.json()['accountId']\n",
    "    #         challenger_id.append(account_id)\n",
    "            \n",
    "        except:\n",
    "            pass\n",
    "\n",
    "pool = Pool(processes=4) # 4개의 프로세스를 사용합니다.\n",
    "pool.map(getData, [1, 50, 100, 150]) # get_contetn 함수를 넣어줍시다.\n",
    "pool.close()\n",
    "pool.join()"
   ]
  },
  {
   "cell_type": "code",
   "execution_count": null,
   "metadata": {},
   "outputs": [],
   "source": []
  }
 ],
 "metadata": {
  "kernelspec": {
   "display_name": "Python 3",
   "language": "python",
   "name": "python3"
  },
  "language_info": {
   "codemirror_mode": {
    "name": "ipython",
    "version": 3
   },
   "file_extension": ".py",
   "mimetype": "text/x-python",
   "name": "python",
   "nbconvert_exporter": "python",
   "pygments_lexer": "ipython3",
   "version": "3.8.5"
  }
 },
 "nbformat": 4,
 "nbformat_minor": 4
}
